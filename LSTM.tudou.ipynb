{
 "cells": [
  {
   "cell_type": "code",
   "execution_count": 52,
   "metadata": {
    "scrolled": true
   },
   "outputs": [],
   "source": [
    "import pandas as pd\n",
    "import numpy as np\n",
    "import get_prices as hist\n",
    "import tensorflow as tf\n",
    "from preprocessing import DataProcessing\n",
    "import pandas_datareader.data as pdr\n",
    "import fix_yahoo_finance as fix\n",
    "import matplotlib.pyplot as plt\n",
    "fix.pdr_override()"
   ]
  },
  {
   "cell_type": "code",
   "execution_count": 53,
   "metadata": {},
   "outputs": [],
   "source": [
    "def my_plot(history, head, save, model_name):\n",
    "    loss = history.history['loss'][head:]\n",
    "    val_loss = history.history['val_loss'][head:]\n",
    "    epochs = range(head + 1, len(loss) + head + 1)\n",
    "    plt.plot(epochs, loss, color='orange', label='Train')\n",
    "    plt.plot(epochs, val_loss, color='green', label='Validation')\n",
    "    plt.title(model_name)\n",
    "    plt.xlabel('Epochs')\n",
    "    plt.ylabel('Loss')\n",
    "    plt.legend()\n",
    "    if save:\n",
    "        plt.savefig(\"figures/\" + model_name + \".{}head\".format(head) + \".png\", dpi=250)"
   ]
  },
  {
   "cell_type": "code",
   "execution_count": 54,
   "metadata": {},
   "outputs": [],
   "source": [
    "model_base_name = \"{}.{}ep.{}lr\""
   ]
  },
  {
   "cell_type": "code",
   "execution_count": 55,
   "metadata": {},
   "outputs": [
    {
     "name": "stdout",
     "output_type": "stream",
     "text": [
      "[*********************100%***********************]  1 of 1 downloaded\n"
     ]
    },
    {
     "name": "stderr",
     "output_type": "stream",
     "text": [
      "/home/lab/isabella/stockprice_prediction/get_prices.py:32: FutureWarning: The signature of `Series.to_csv` was aligned to that of `DataFrame.to_csv`, and argument 'header' will change its default value from False to True: please pass an explicit value to suppress this warning.\n",
      "  stock_data.to_csv(\"stock_prices.csv\")\n"
     ]
    }
   ],
   "source": [
    "start = \"2003-01-01\"\n",
    "end = \"2018-01-01\"\n",
    "\n",
    "hist.get_stock_data(\"AAPL\", start_date=start, end_date=end)\n",
    "process = DataProcessing(\"stock_prices.csv\", 1.0)\n",
    "# process.gen_test(10)\n",
    "process.gen_train(10)"
   ]
  },
  {
   "cell_type": "code",
   "execution_count": 56,
   "metadata": {},
   "outputs": [],
   "source": [
    "XY_total = [(process.X_train[i], process.Y_train[i]) for i in range(len(process.X_train))]\n",
    "np.random.shuffle(XY_total)"
   ]
  },
  {
   "cell_type": "code",
   "execution_count": 57,
   "metadata": {},
   "outputs": [],
   "source": [
    "i_split = int(0.9 * len(XY_total))\n",
    "XY_train = XY_total[:i_split]\n",
    "X_train = np.asarray([t[0] for t in XY_train])\n",
    "X_train = X_train.reshape((len(X_train), 10, 1)) / 200\n",
    "Y_train = np.asarray([t[1] for t in XY_train]) / 200\n",
    "\n",
    "XY_val = XY_total[i_split:]\n",
    "X_val = np.asarray([t[0] for t in XY_val])\n",
    "X_val = X_val.reshape((len(X_val), 10, 1)) / 200\n",
    "Y_val = np.asarray([t[1] for t in XY_val]) / 200"
   ]
  },
  {
   "cell_type": "markdown",
   "metadata": {},
   "source": [
    "# Models"
   ]
  },
  {
   "cell_type": "code",
   "execution_count": 77,
   "metadata": {},
   "outputs": [],
   "source": [
    "from tensorflow.keras.layers import Convolution1D, LSTM, Dropout, Dense, MaxPooling1D, Flatten"
   ]
  },
  {
   "cell_type": "markdown",
   "metadata": {},
   "source": [
    "## CNN model"
   ]
  },
  {
   "cell_type": "code",
   "execution_count": 66,
   "metadata": {},
   "outputs": [],
   "source": [
    "epochs = 50\n",
    "lr = 0.00001\n",
    "d_rate = 0.4\n",
    "n_filters = 64\n",
    "kernel_size = 2"
   ]
  },
  {
   "cell_type": "code",
   "execution_count": 62,
   "metadata": {},
   "outputs": [],
   "source": [
    "model_name = model_base_name.format(\n",
    "    \"CNN\",\n",
    "    epochs,\n",
    "    lr\n",
    ")"
   ]
  },
  {
   "cell_type": "code",
   "execution_count": 78,
   "metadata": {},
   "outputs": [],
   "source": [
    "model = tf.keras.Sequential()\n",
    "# model.add(Dense(128, activation='relu',input_shape=(10, 1)))\n",
    "model.add(Convolution1D(input_shape=(10, 1),\n",
    "                        filters=n_filters, \n",
    "                        kernel_size=kernel_size,\n",
    "                        activation='relu', \n",
    "#                         padding='valid', \n",
    "#                         strides=1\n",
    "                       )\n",
    "         )\n",
    "model.add(MaxPooling1D(pool_size=1))\n",
    "# model.add(tf.keras.layers.Convolution1D(20))\n",
    "model.add(Dropout(d_rate))\n",
    "model.add(Flatten())\n",
    "model.add(tf.keras.layers.Dense(1, activation=tf.nn.relu))\n",
    "model.compile(optimizer=adam, loss=\"mean_squared_error\")"
   ]
  },
  {
   "cell_type": "code",
   "execution_count": 79,
   "metadata": {
    "scrolled": true
   },
   "outputs": [
    {
     "name": "stdout",
     "output_type": "stream",
     "text": [
      "_________________________________________________________________\n",
      "Layer (type)                 Output Shape              Param #   \n",
      "=================================================================\n",
      "conv1d_2 (Conv1D)            (None, 9, 64)             192       \n",
      "_________________________________________________________________\n",
      "max_pooling1d_1 (MaxPooling1 (None, 9, 64)             0         \n",
      "_________________________________________________________________\n",
      "dropout_2 (Dropout)          (None, 9, 64)             0         \n",
      "_________________________________________________________________\n",
      "flatten (Flatten)            (None, 576)               0         \n",
      "_________________________________________________________________\n",
      "dense_5 (Dense)              (None, 1)                 577       \n",
      "=================================================================\n",
      "Total params: 769\n",
      "Trainable params: 769\n",
      "Non-trainable params: 0\n",
      "_________________________________________________________________\n"
     ]
    }
   ],
   "source": [
    "model.summary()"
   ]
  },
  {
   "cell_type": "code",
   "execution_count": 80,
   "metadata": {},
   "outputs": [
    {
     "name": "stdout",
     "output_type": "stream",
     "text": [
      "Train on 3379 samples, validate on 359 samples\n",
      "Epoch 1/50\n",
      "3379/3379 [==============================] - 1s 427us/sample - loss: 0.0499 - val_loss: 0.3077\n",
      "Epoch 2/50\n",
      "3379/3379 [==============================] - 1s 149us/sample - loss: 0.0286 - val_loss: 0.1853\n",
      "Epoch 3/50\n",
      "3379/3379 [==============================] - 1s 153us/sample - loss: 0.0180 - val_loss: 0.1252\n",
      "Epoch 4/50\n",
      "3379/3379 [==============================] - 1s 151us/sample - loss: 0.0121 - val_loss: 0.0890\n",
      "Epoch 5/50\n",
      "3379/3379 [==============================] - 1s 152us/sample - loss: 0.0091 - val_loss: 0.0659\n",
      "Epoch 6/50\n",
      "3379/3379 [==============================] - 1s 152us/sample - loss: 0.0075 - val_loss: 0.0494\n",
      "Epoch 7/50\n",
      "3379/3379 [==============================] - 1s 153us/sample - loss: 0.0064 - val_loss: 0.0380\n",
      "Epoch 8/50\n",
      "3379/3379 [==============================] - 1s 155us/sample - loss: 0.0058 - val_loss: 0.0299\n",
      "Epoch 9/50\n",
      "3379/3379 [==============================] - 1s 152us/sample - loss: 0.0050 - val_loss: 0.0242\n",
      "Epoch 10/50\n",
      "3379/3379 [==============================] - 1s 152us/sample - loss: 0.0045 - val_loss: 0.0202\n",
      "Epoch 11/50\n",
      "3379/3379 [==============================] - 1s 152us/sample - loss: 0.0041 - val_loss: 0.0171\n",
      "Epoch 12/50\n",
      "3379/3379 [==============================] - 1s 153us/sample - loss: 0.0037 - val_loss: 0.0145\n",
      "Epoch 13/50\n",
      "3379/3379 [==============================] - 1s 152us/sample - loss: 0.0036 - val_loss: 0.0123\n",
      "Epoch 14/50\n",
      "3379/3379 [==============================] - 1s 151us/sample - loss: 0.0032 - val_loss: 0.0105\n",
      "Epoch 15/50\n",
      "3379/3379 [==============================] - 1s 152us/sample - loss: 0.0029 - val_loss: 0.0090\n",
      "Epoch 16/50\n",
      "3379/3379 [==============================] - 1s 152us/sample - loss: 0.0027 - val_loss: 0.0078\n",
      "Epoch 17/50\n",
      "3379/3379 [==============================] - 1s 152us/sample - loss: 0.0025 - val_loss: 0.0066\n",
      "Epoch 18/50\n",
      "3379/3379 [==============================] - 1s 155us/sample - loss: 0.0024 - val_loss: 0.0056\n",
      "Epoch 19/50\n",
      "3379/3379 [==============================] - 1s 154us/sample - loss: 0.0022 - val_loss: 0.0047\n",
      "Epoch 20/50\n",
      "3379/3379 [==============================] - 1s 154us/sample - loss: 0.0021 - val_loss: 0.0041\n",
      "Epoch 21/50\n",
      "3379/3379 [==============================] - 1s 153us/sample - loss: 0.0020 - val_loss: 0.0036\n",
      "Epoch 22/50\n",
      "3379/3379 [==============================] - 1s 153us/sample - loss: 0.0020 - val_loss: 0.0030\n",
      "Epoch 23/50\n",
      "3379/3379 [==============================] - 1s 153us/sample - loss: 0.0018 - val_loss: 0.0027\n",
      "Epoch 24/50\n",
      "3379/3379 [==============================] - 1s 150us/sample - loss: 0.0017 - val_loss: 0.0023\n",
      "Epoch 25/50\n",
      "3379/3379 [==============================] - 1s 152us/sample - loss: 0.0017 - val_loss: 0.0018\n",
      "Epoch 26/50\n",
      "3379/3379 [==============================] - 1s 153us/sample - loss: 0.0016 - val_loss: 0.0017\n",
      "Epoch 27/50\n",
      "3379/3379 [==============================] - 1s 151us/sample - loss: 0.0017 - val_loss: 0.0014\n",
      "Epoch 28/50\n",
      "3379/3379 [==============================] - 1s 153us/sample - loss: 0.0015 - val_loss: 0.0011\n",
      "Epoch 29/50\n",
      "3379/3379 [==============================] - 1s 151us/sample - loss: 0.0014 - val_loss: 0.0010\n",
      "Epoch 30/50\n",
      "3379/3379 [==============================] - 1s 151us/sample - loss: 0.0014 - val_loss: 9.3429e-04\n",
      "Epoch 31/50\n",
      "3379/3379 [==============================] - 1s 154us/sample - loss: 0.0014 - val_loss: 9.2144e-04\n",
      "Epoch 32/50\n",
      "3379/3379 [==============================] - 1s 153us/sample - loss: 0.0015 - val_loss: 8.0990e-04\n",
      "Epoch 33/50\n",
      "3379/3379 [==============================] - 1s 151us/sample - loss: 0.0015 - val_loss: 6.9726e-04\n",
      "Epoch 34/50\n",
      "3379/3379 [==============================] - 1s 155us/sample - loss: 0.0015 - val_loss: 7.7106e-04\n",
      "Epoch 35/50\n",
      "3379/3379 [==============================] - 1s 153us/sample - loss: 0.0013 - val_loss: 6.6046e-04\n",
      "Epoch 36/50\n",
      "3379/3379 [==============================] - 1s 149us/sample - loss: 0.0015 - val_loss: 6.9838e-04\n",
      "Epoch 37/50\n",
      "3379/3379 [==============================] - 1s 152us/sample - loss: 0.0015 - val_loss: 5.9803e-04\n",
      "Epoch 38/50\n",
      "3379/3379 [==============================] - 1s 152us/sample - loss: 0.0014 - val_loss: 5.5311e-04\n",
      "Epoch 39/50\n",
      "3379/3379 [==============================] - 1s 149us/sample - loss: 0.0014 - val_loss: 4.7180e-04\n",
      "Epoch 40/50\n",
      "3379/3379 [==============================] - 1s 149us/sample - loss: 0.0013 - val_loss: 4.1229e-04\n",
      "Epoch 41/50\n",
      "3379/3379 [==============================] - 1s 152us/sample - loss: 0.0013 - val_loss: 3.9288e-04\n",
      "Epoch 42/50\n",
      "3379/3379 [==============================] - 1s 152us/sample - loss: 0.0014 - val_loss: 4.3272e-04\n",
      "Epoch 43/50\n",
      "3379/3379 [==============================] - 1s 152us/sample - loss: 0.0013 - val_loss: 4.8238e-04\n",
      "Epoch 44/50\n",
      "3379/3379 [==============================] - 1s 153us/sample - loss: 0.0013 - val_loss: 5.0862e-04\n",
      "Epoch 45/50\n",
      "3379/3379 [==============================] - 1s 152us/sample - loss: 0.0012 - val_loss: 4.8826e-04\n",
      "Epoch 46/50\n",
      "3379/3379 [==============================] - 1s 152us/sample - loss: 0.0013 - val_loss: 4.1810e-04\n",
      "Epoch 47/50\n",
      "3379/3379 [==============================] - 1s 152us/sample - loss: 0.0012 - val_loss: 4.5649e-04\n",
      "Epoch 48/50\n",
      "3379/3379 [==============================] - 1s 153us/sample - loss: 0.0013 - val_loss: 4.3538e-04\n",
      "Epoch 49/50\n",
      "3379/3379 [==============================] - 1s 150us/sample - loss: 0.0012 - val_loss: 5.7200e-04\n",
      "Epoch 50/50\n",
      "3379/3379 [==============================] - 1s 153us/sample - loss: 0.0013 - val_loss: 5.0697e-04\n"
     ]
    }
   ],
   "source": [
    "history = model.fit(X_train, Y_train, epochs=epochs, validation_data=(X_val, Y_val))"
   ]
  },
  {
   "cell_type": "code",
   "execution_count": 81,
   "metadata": {},
   "outputs": [
    {
     "data": {
      "image/png": "[encoded data removed]",
      "text/plain": [
       "<Figure size 432x288 with 1 Axes>"
      ]
     },
     "metadata": {
      "needs_background": "light"
     },
     "output_type": "display_data"
    }
   ],
   "source": [
    "my_plot(history, 0, True, model_name)"
   ]
  },
  {
   "cell_type": "code",
   "execution_count": 82,
   "metadata": {},
   "outputs": [
    {
     "data": {
      "image/png": "[encoded data removed]",
      "text/plain": [
       "<Figure size 432x288 with 1 Axes>"
      ]
     },
     "metadata": {
      "needs_background": "light"
     },
     "output_type": "display_data"
    }
   ],
   "source": [
    "my_plot(history, 33, True, model_name)"
   ]
  },
  {
   "cell_type": "markdown",
   "metadata": {},
   "source": [
    "## LSTM model"
   ]
  },
  {
   "cell_type": "code",
   "execution_count": 65,
   "metadata": {},
   "outputs": [],
   "source": [
    "epochs = 50\n",
    "lr = 0.00001"
   ]
  },
  {
   "cell_type": "code",
   "execution_count": 66,
   "metadata": {},
   "outputs": [],
   "source": [
    "adam = tf.keras.optimizers.Adam(lr=lr)"
   ]
  },
  {
   "cell_type": "code",
   "execution_count": 67,
   "metadata": {},
   "outputs": [],
   "source": [
    "model_name = model_base_name.format(\n",
    "    \"LSTM\",\n",
    "    epochs,\n",
    "    lr\n",
    ")"
   ]
  },
  {
   "cell_type": "code",
   "execution_count": 68,
   "metadata": {},
   "outputs": [],
   "source": [
    "model = tf.keras.Sequential()\n",
    "model.add(tf.keras.layers.LSTM(20, input_shape=(10, 1), return_sequences=True))\n",
    "model.add(tf.keras.layers.LSTM(20))\n",
    "model.add(tf.keras.layers.Dense(1, activation=tf.nn.relu))\n",
    "\n",
    "model.compile(optimizer=adam, loss=\"mean_squared_error\")"
   ]
  },
  {
   "cell_type": "code",
   "execution_count": 69,
   "metadata": {
    "scrolled": true
   },
   "outputs": [
    {
     "name": "stdout",
     "output_type": "stream",
     "text": [
      "_________________________________________________________________\n",
      "Layer (type)                 Output Shape              Param #   \n",
      "=================================================================\n",
      "lstm_2 (LSTM)                (None, 10, 20)            1760      \n",
      "_________________________________________________________________\n",
      "lstm_3 (LSTM)                (None, 20)                3280      \n",
      "_________________________________________________________________\n",
      "dense_1 (Dense)              (None, 1)                 21        \n",
      "=================================================================\n",
      "Total params: 5,061\n",
      "Trainable params: 5,061\n",
      "Non-trainable params: 0\n",
      "_________________________________________________________________\n"
     ]
    }
   ],
   "source": [
    "model.summary()"
   ]
  },
  {
   "cell_type": "code",
   "execution_count": 70,
   "metadata": {},
   "outputs": [
    {
     "name": "stdout",
     "output_type": "stream",
     "text": [
      "Train on 3383 samples, validate on 376 samples\n",
      "Epoch 1/50\n",
      "3383/3383 [==============================] - 6s 2ms/sample - loss: 0.0677 - val_loss: 0.0575\n",
      "Epoch 2/50\n",
      "3383/3383 [==============================] - 5s 1ms/sample - loss: 0.0602 - val_loss: 0.0509\n",
      "Epoch 3/50\n",
      "3383/3383 [==============================] - 5s 1ms/sample - loss: 0.0532 - val_loss: 0.0447\n",
      "Epoch 4/50\n",
      "3383/3383 [==============================] - 5s 1ms/sample - loss: 0.0468 - val_loss: 0.0391\n",
      "Epoch 5/50\n",
      "3383/3383 [==============================] - 5s 1ms/sample - loss: 0.0407 - val_loss: 0.0338\n",
      "Epoch 6/50\n",
      "3383/3383 [==============================] - 5s 1ms/sample - loss: 0.0352 - val_loss: 0.0291\n",
      "Epoch 7/50\n",
      "3383/3383 [==============================] - 5s 1ms/sample - loss: 0.0301 - val_loss: 0.0248\n",
      "Epoch 8/50\n",
      "3383/3383 [==============================] - 5s 1ms/sample - loss: 0.0256 - val_loss: 0.0210\n",
      "Epoch 9/50\n",
      "3383/3383 [==============================] - 5s 1ms/sample - loss: 0.0217 - val_loss: 0.0179\n",
      "Epoch 10/50\n",
      "3383/3383 [==============================] - 5s 1ms/sample - loss: 0.0184 - val_loss: 0.0152\n",
      "Epoch 11/50\n",
      "3383/3383 [==============================] - 5s 1ms/sample - loss: 0.0156 - val_loss: 0.0131\n",
      "Epoch 12/50\n",
      "3383/3383 [==============================] - 5s 1ms/sample - loss: 0.0134 - val_loss: 0.0114\n",
      "Epoch 13/50\n",
      "3383/3383 [==============================] - 5s 1ms/sample - loss: 0.0116 - val_loss: 0.0100\n",
      "Epoch 14/50\n",
      "3383/3383 [==============================] - 5s 1ms/sample - loss: 0.0102 - val_loss: 0.0089\n",
      "Epoch 15/50\n",
      "3383/3383 [==============================] - 5s 1ms/sample - loss: 0.0090 - val_loss: 0.0080\n",
      "Epoch 16/50\n",
      "3383/3383 [==============================] - 5s 1ms/sample - loss: 0.0079 - val_loss: 0.0071\n",
      "Epoch 17/50\n",
      "3383/3383 [==============================] - 5s 1ms/sample - loss: 0.0070 - val_loss: 0.0063\n",
      "Epoch 18/50\n",
      "3383/3383 [==============================] - 5s 1ms/sample - loss: 0.0062 - val_loss: 0.0055\n",
      "Epoch 19/50\n",
      "3383/3383 [==============================] - 5s 1ms/sample - loss: 0.0054 - val_loss: 0.0048\n",
      "Epoch 20/50\n",
      "3383/3383 [==============================] - 5s 1ms/sample - loss: 0.0046 - val_loss: 0.0041\n",
      "Epoch 21/50\n",
      "3383/3383 [==============================] - 5s 1ms/sample - loss: 0.0039 - val_loss: 0.0035\n",
      "Epoch 22/50\n",
      "3383/3383 [==============================] - 5s 1ms/sample - loss: 0.0033 - val_loss: 0.0029\n",
      "Epoch 23/50\n",
      "3383/3383 [==============================] - 5s 1ms/sample - loss: 0.0027 - val_loss: 0.0024\n",
      "Epoch 24/50\n",
      "3383/3383 [==============================] - 5s 1ms/sample - loss: 0.0022 - val_loss: 0.0019\n",
      "Epoch 25/50\n",
      "3383/3383 [==============================] - 5s 1ms/sample - loss: 0.0017 - val_loss: 0.0015\n",
      "Epoch 26/50\n",
      "3383/3383 [==============================] - 5s 1ms/sample - loss: 0.0014 - val_loss: 0.0012\n",
      "Epoch 27/50\n",
      "3383/3383 [==============================] - 5s 1ms/sample - loss: 0.0010 - val_loss: 8.9003e-04\n",
      "Epoch 28/50\n",
      "3383/3383 [==============================] - 5s 1ms/sample - loss: 7.9652e-04 - val_loss: 6.6814e-04\n",
      "Epoch 29/50\n",
      "3383/3383 [==============================] - 5s 1ms/sample - loss: 5.9836e-04 - val_loss: 4.9862e-04\n",
      "Epoch 30/50\n",
      "3383/3383 [==============================] - 5s 1ms/sample - loss: 4.4805e-04 - val_loss: 3.7009e-04\n",
      "Epoch 31/50\n",
      "3383/3383 [==============================] - 5s 1ms/sample - loss: 3.3703e-04 - val_loss: 2.7746e-04\n",
      "Epoch 32/50\n",
      "3383/3383 [==============================] - 5s 1ms/sample - loss: 2.5809e-04 - val_loss: 2.1260e-04\n",
      "Epoch 33/50\n",
      "3383/3383 [==============================] - 5s 1ms/sample - loss: 2.0397e-04 - val_loss: 1.6848e-04\n",
      "Epoch 34/50\n",
      "3383/3383 [==============================] - 5s 1ms/sample - loss: 1.6810e-04 - val_loss: 1.3973e-04\n",
      "Epoch 35/50\n",
      "3383/3383 [==============================] - 5s 1ms/sample - loss: 1.4523e-04 - val_loss: 1.2173e-04\n",
      "Epoch 36/50\n",
      "3383/3383 [==============================] - 5s 1ms/sample - loss: 1.3114e-04 - val_loss: 1.1089e-04\n",
      "Epoch 37/50\n",
      "3383/3383 [==============================] - 5s 1ms/sample - loss: 1.2282e-04 - val_loss: 1.0433e-04\n",
      "Epoch 38/50\n",
      "3383/3383 [==============================] - 5s 1ms/sample - loss: 1.1797e-04 - val_loss: 1.0063e-04\n",
      "Epoch 39/50\n",
      "3383/3383 [==============================] - 5s 1ms/sample - loss: 1.1534e-04 - val_loss: 9.8469e-05\n",
      "Epoch 40/50\n",
      "3383/3383 [==============================] - 5s 1ms/sample - loss: 1.1373e-04 - val_loss: 9.7295e-05\n",
      "Epoch 41/50\n",
      "3383/3383 [==============================] - 5s 1ms/sample - loss: 1.1281e-04 - val_loss: 9.6460e-05\n",
      "Epoch 42/50\n",
      "3383/3383 [==============================] - 5s 1ms/sample - loss: 1.1210e-04 - val_loss: 9.5867e-05\n",
      "Epoch 43/50\n",
      "3383/3383 [==============================] - 5s 1ms/sample - loss: 1.1169e-04 - val_loss: 9.5508e-05\n",
      "Epoch 44/50\n",
      "3383/3383 [==============================] - 5s 1ms/sample - loss: 1.1133e-04 - val_loss: 9.5103e-05\n",
      "Epoch 45/50\n",
      "3383/3383 [==============================] - 5s 1ms/sample - loss: 1.1084e-04 - val_loss: 9.4779e-05\n",
      "Epoch 46/50\n",
      "3383/3383 [==============================] - 5s 1ms/sample - loss: 1.1064e-04 - val_loss: 9.4454e-05\n",
      "Epoch 47/50\n",
      "3383/3383 [==============================] - 5s 1ms/sample - loss: 1.1022e-04 - val_loss: 9.4102e-05\n",
      "Epoch 48/50\n",
      "3383/3383 [==============================] - 5s 1ms/sample - loss: 1.0996e-04 - val_loss: 9.3907e-05\n",
      "Epoch 49/50\n",
      "3383/3383 [==============================] - 5s 1ms/sample - loss: 1.0937e-04 - val_loss: 9.3439e-05\n",
      "Epoch 50/50\n",
      "3383/3383 [==============================] - 5s 1ms/sample - loss: 1.0910e-04 - val_loss: 9.3108e-05\n"
     ]
    }
   ],
   "source": [
    "history = model.fit(X_train, Y_train, epochs=epochs, validation_data=(X_val, Y_val))"
   ]
  },
  {
   "cell_type": "code",
   "execution_count": 71,
   "metadata": {},
   "outputs": [
    {
     "data": {
      "image/png": "[encoded data removed]",
      "text/plain": [
       "<Figure size 432x288 with 1 Axes>"
      ]
     },
     "metadata": {
      "needs_background": "light"
     },
     "output_type": "display_data"
    }
   ],
   "source": [
    "my_plot(history, 0, True, model_name)"
   ]
  },
  {
   "cell_type": "code",
   "execution_count": 72,
   "metadata": {},
   "outputs": [
    {
     "data": {
      "image/png": "[encoded data removed]",
      "text/plain": [
       "<Figure size 432x288 with 1 Axes>"
      ]
     },
     "metadata": {
      "needs_background": "light"
     },
     "output_type": "display_data"
    }
   ],
   "source": [
    "my_plot(history, 33, True, model_name)"
   ]
  },
  {
   "cell_type": "markdown",
   "metadata": {},
   "source": [
    "# Prediction"
   ]
  },
  {
   "cell_type": "code",
   "execution_count": 73,
   "metadata": {},
   "outputs": [],
   "source": [
    "test_csv = \"stock_prices_test.csv\"\n",
    "def save_stock_data(ticker, start_date, end_date):\n",
    "    i = 1\n",
    "    try:\n",
    "        all_data = pdr.get_data_yahoo(ticker, start_date, end_date)\n",
    "    except ValueError:\n",
    "        print(\"ValueError, trying again\")\n",
    "        i += 1\n",
    "        if i < 5:\n",
    "            time.sleep(10)\n",
    "            get_stock_data(ticker, start_date, end_date)\n",
    "        else:\n",
    "            print(\"Tried 5 times, Yahoo error. Trying after 2 minutes\")\n",
    "            time.sleep(120)\n",
    "            get_stock_data(ticker, start_date, end_date)\n",
    "    stock_data = all_data[\"Adj Close\"]\n",
    "    stock_data.to_csv(test_csv)"
   ]
  },
  {
   "cell_type": "code",
   "execution_count": 80,
   "metadata": {},
   "outputs": [],
   "source": [
    "def my_pred_plot(pred, test, save):\n",
    "    samples = range(1, len(test) + 1)\n",
    "    plt.plot(samples, pred, color='orange', label='Prediction')\n",
    "    plt.plot(samples, test, color='green', label='Actual value')\n",
    "    plt.title(model_name)\n",
    "    plt.xlabel('Samples')\n",
    "    plt.ylabel('Stock value')\n",
    "    plt.legend()\n",
    "    if save:\n",
    "        plt.savefig(\"figures/\" + model_name + \".pred\" + \".png\", dpi=250)"
   ]
  },
  {
   "cell_type": "code",
   "execution_count": 96,
   "metadata": {},
   "outputs": [
    {
     "name": "stdout",
     "output_type": "stream",
     "text": [
      "[*********************100%***********************]  1 of 1 downloaded\n"
     ]
    },
    {
     "name": "stderr",
     "output_type": "stream",
     "text": [
      "/home/lab/isabella/.pyenv/versions/anaconda3-2019.03/lib/python3.7/site-packages/ipykernel_launcher.py:17: FutureWarning: The signature of `Series.to_csv` was aligned to that of `DataFrame.to_csv`, and argument 'header' will change its default value from False to True: please pass an explicit value to suppress this warning.\n"
     ]
    }
   ],
   "source": [
    "save_stock_data(\"AAPL\", \"2013-03-01\", \"2016-09-30\")\n",
    "process_test = DataProcessing(\"stock_prices_test.csv\", 1.0)\n",
    "process_test.gen_train(10)\n",
    "X_test = process_test.X_train.reshape((len(process_test.X_train), 10, 1)) / 200\n",
    "Y_test = process_test.Y_train"
   ]
  },
  {
   "cell_type": "code",
   "execution_count": 97,
   "metadata": {},
   "outputs": [],
   "source": [
    "Y_predict = model.predict(X_test)*200"
   ]
  },
  {
   "cell_type": "code",
   "execution_count": 98,
   "metadata": {},
   "outputs": [
    {
     "data": {
      "image/png": "[encoded data removed]",
      "text/plain": [
       "<Figure size 432x288 with 1 Axes>"
      ]
     },
     "metadata": {
      "needs_background": "light"
     },
     "output_type": "display_data"
    }
   ],
   "source": [
    "my_pred_plot(Y_predict[0:], Y_test[0:], False)"
   ]
  },
  {
   "cell_type": "code",
   "execution_count": null,
   "metadata": {},
   "outputs": [],
   "source": []
  }
 ],
 "metadata": {
  "kernelspec": {
   "display_name": "Python 3",
   "language": "python",
   "name": "python3"
  },
  "language_info": {
   "codemirror_mode": {
    "name": "ipython",
    "version": 3
   },
   "file_extension": ".py",
   "mimetype": "text/x-python",
   "name": "python",
   "nbconvert_exporter": "python",
   "pygments_lexer": "ipython3",
   "version": "3.7.3"
  }
 },
 "nbformat": 4,
 "nbformat_minor": 2
}
