{
 "cells": [
  {
   "cell_type": "code",
   "execution_count": 1,
   "metadata": {},
   "outputs": [],
   "source": [
    "import pandas as pd\n",
    "import numpy as np\n",
    "import get_prices as hist\n",
    "import tensorflow as tf\n",
    "from preprocessing import DataProcessing\n",
    "import pandas_datareader.data as pdr\n",
    "import fix_yahoo_finance as fix\n",
    "fix.pdr_override()"
   ]
  },
  {
   "cell_type": "code",
   "execution_count": 2,
   "metadata": {},
   "outputs": [
    {
     "name": "stdout",
     "output_type": "stream",
     "text": [
      "[*********************100%***********************]  1 of 1 downloaded\n"
     ]
    },
    {
     "name": "stderr",
     "output_type": "stream",
     "text": [
      "/Users/oscar/NLP/stockprice_prediction-master/get_prices.py:32: FutureWarning: The signature of `Series.to_csv` was aligned to that of `DataFrame.to_csv`, and argument 'header' will change its default value from False to True: please pass an explicit value to suppress this warning.\n",
      "  stock_data.to_csv(\"stock_prices.csv\")\n"
     ]
    }
   ],
   "source": [
    "start = \"2003-01-01\"\n",
    "end = \"2018-01-01\"\n",
    "\n",
    "hist.get_stock_data(\"AAPL\", start_date=start, end_date=end)\n",
    "process = DataProcessing(\"stock_prices.csv\", 0.9)\n",
    "process.gen_test(10)\n",
    "process.gen_train(10)"
   ]
  },
  {
   "cell_type": "code",
   "execution_count": 3,
   "metadata": {},
   "outputs": [],
   "source": [
    "X_train = process.X_train.reshape((3379, 10, 1)) / 200\n",
    "Y_train = process.Y_train / 200\n",
    "\n",
    "X_test = process.X_test.reshape(359, 10, 1) / 200\n",
    "Y_test = process.Y_test / 200"
   ]
  },
  {
   "cell_type": "code",
   "execution_count": 9,
   "metadata": {},
   "outputs": [
    {
     "data": {
      "text/plain": [
       "array([[[0.0035 ],\n",
       "        [0.00355],\n",
       "        [0.00355],\n",
       "        ...,\n",
       "        [0.0035 ],\n",
       "        [0.0035 ],\n",
       "        [0.00345]],\n",
       "\n",
       "       [[0.00355],\n",
       "        [0.00355],\n",
       "        [0.00355],\n",
       "        ...,\n",
       "        [0.0035 ],\n",
       "        [0.00345],\n",
       "        [0.0035 ]],\n",
       "\n",
       "       [[0.00355],\n",
       "        [0.00355],\n",
       "        [0.00345],\n",
       "        ...,\n",
       "        [0.00345],\n",
       "        [0.0035 ],\n",
       "        [0.00335]],\n",
       "\n",
       "       ...,\n",
       "\n",
       "       [[0.47035],\n",
       "        [0.4668 ],\n",
       "        [0.46775],\n",
       "        ...,\n",
       "        [0.4721 ],\n",
       "        [0.465  ],\n",
       "        [0.46555]],\n",
       "\n",
       "       [[0.4668 ],\n",
       "        [0.46775],\n",
       "        [0.47115],\n",
       "        ...,\n",
       "        [0.465  ],\n",
       "        [0.46555],\n",
       "        [0.464  ]],\n",
       "\n",
       "       [[0.46775],\n",
       "        [0.47115],\n",
       "        [0.47305],\n",
       "        ...,\n",
       "        [0.46555],\n",
       "        [0.464  ],\n",
       "        [0.466  ]]])"
      ]
     },
     "execution_count": 9,
     "metadata": {},
     "output_type": "execute_result"
    }
   ],
   "source": [
    "X_train"
   ]
  },
  {
   "cell_type": "code",
   "execution_count": null,
   "metadata": {},
   "outputs": [],
   "source": [
    "model = tf.keras.Sequential()\n",
    "model.add(tf.keras.layers.LSTM(20, input_shape=(10, 1), return_sequences=True))\n",
    "model.add(tf.keras.layers.LSTM(20))\n",
    "model.add(tf.keras.layers.Dense(1, activation=tf.nn.relu))\n",
    "\n",
    "model.compile(optimizer=\"adam\", loss=\"mean_squared_error\")\n",
    "\n",
    "model.summary()\n",
    "\n",
    "model.fit(X_train, Y_train, epochs=200)\n",
    "\n",
    "print(model.evaluate(X_test, Y_test))\n",
    "\n",
    "data = pdr.get_data_yahoo(\"AAPL\", \"2017-12-19\", \"2018-01-03\")\n",
    "stock = data[\"Adj Close\"]\n",
    "X_predict = np.array(stock).reshape((1, 10, 1)) / 200\n",
    "\n",
    "print(model.predict(X_predict)*200)\n",
    "\n"
   ]
  },
  {
   "cell_type": "code",
   "execution_count": 4,
   "metadata": {},
   "outputs": [
    {
     "name": "stdout",
     "output_type": "stream",
     "text": [
      "[*********************100%***********************]  1 of 1 downloaded\n"
     ]
    }
   ],
   "source": [
    "#If instead of a full backtest, you just want to see how accurate the model is for a particular prediction, run this:\n",
    "data = pdr.get_data_yahoo(\"AAPL\", \"2017-12-19\", \"2018-01-03\")\n",
    "stock = data[\"Adj Close\"]"
   ]
  },
  {
   "cell_type": "code",
   "execution_count": 5,
   "metadata": {},
   "outputs": [
    {
     "data": {
      "text/html": [
       "<div>\n",
       "<style scoped>\n",
       "    .dataframe tbody tr th:only-of-type {\n",
       "        vertical-align: middle;\n",
       "    }\n",
       "\n",
       "    .dataframe tbody tr th {\n",
       "        vertical-align: top;\n",
       "    }\n",
       "\n",
       "    .dataframe thead th {\n",
       "        text-align: right;\n",
       "    }\n",
       "</style>\n",
       "<table border=\"1\" class=\"dataframe\">\n",
       "  <thead>\n",
       "    <tr style=\"text-align: right;\">\n",
       "      <th></th>\n",
       "      <th>Open</th>\n",
       "      <th>High</th>\n",
       "      <th>Low</th>\n",
       "      <th>Close</th>\n",
       "      <th>Adj Close</th>\n",
       "      <th>Volume</th>\n",
       "    </tr>\n",
       "    <tr>\n",
       "      <th>Date</th>\n",
       "      <th></th>\n",
       "      <th></th>\n",
       "      <th></th>\n",
       "      <th></th>\n",
       "      <th></th>\n",
       "      <th></th>\n",
       "    </tr>\n",
       "  </thead>\n",
       "  <tbody>\n",
       "    <tr>\n",
       "      <th>2017-12-18</th>\n",
       "      <td>174.88</td>\n",
       "      <td>177.20</td>\n",
       "      <td>174.86</td>\n",
       "      <td>176.42</td>\n",
       "      <td>173.07</td>\n",
       "      <td>29421100</td>\n",
       "    </tr>\n",
       "    <tr>\n",
       "      <th>2017-12-19</th>\n",
       "      <td>175.03</td>\n",
       "      <td>175.39</td>\n",
       "      <td>174.09</td>\n",
       "      <td>174.54</td>\n",
       "      <td>171.22</td>\n",
       "      <td>27436400</td>\n",
       "    </tr>\n",
       "    <tr>\n",
       "      <th>2017-12-20</th>\n",
       "      <td>174.87</td>\n",
       "      <td>175.42</td>\n",
       "      <td>173.25</td>\n",
       "      <td>174.35</td>\n",
       "      <td>171.04</td>\n",
       "      <td>23475600</td>\n",
       "    </tr>\n",
       "    <tr>\n",
       "      <th>2017-12-21</th>\n",
       "      <td>174.17</td>\n",
       "      <td>176.02</td>\n",
       "      <td>174.10</td>\n",
       "      <td>175.01</td>\n",
       "      <td>171.69</td>\n",
       "      <td>20949900</td>\n",
       "    </tr>\n",
       "    <tr>\n",
       "      <th>2017-12-22</th>\n",
       "      <td>174.68</td>\n",
       "      <td>175.42</td>\n",
       "      <td>174.50</td>\n",
       "      <td>175.01</td>\n",
       "      <td>171.69</td>\n",
       "      <td>16114600</td>\n",
       "    </tr>\n",
       "    <tr>\n",
       "      <th>2017-12-26</th>\n",
       "      <td>170.80</td>\n",
       "      <td>171.47</td>\n",
       "      <td>169.68</td>\n",
       "      <td>170.57</td>\n",
       "      <td>167.33</td>\n",
       "      <td>33185500</td>\n",
       "    </tr>\n",
       "    <tr>\n",
       "      <th>2017-12-27</th>\n",
       "      <td>170.10</td>\n",
       "      <td>170.78</td>\n",
       "      <td>169.71</td>\n",
       "      <td>170.60</td>\n",
       "      <td>167.36</td>\n",
       "      <td>21498200</td>\n",
       "    </tr>\n",
       "    <tr>\n",
       "      <th>2017-12-28</th>\n",
       "      <td>171.00</td>\n",
       "      <td>171.85</td>\n",
       "      <td>170.48</td>\n",
       "      <td>171.08</td>\n",
       "      <td>167.83</td>\n",
       "      <td>16480200</td>\n",
       "    </tr>\n",
       "    <tr>\n",
       "      <th>2017-12-29</th>\n",
       "      <td>170.52</td>\n",
       "      <td>170.59</td>\n",
       "      <td>169.22</td>\n",
       "      <td>169.23</td>\n",
       "      <td>166.01</td>\n",
       "      <td>25884400</td>\n",
       "    </tr>\n",
       "    <tr>\n",
       "      <th>2018-01-02</th>\n",
       "      <td>170.16</td>\n",
       "      <td>172.30</td>\n",
       "      <td>169.26</td>\n",
       "      <td>172.26</td>\n",
       "      <td>168.99</td>\n",
       "      <td>25555900</td>\n",
       "    </tr>\n",
       "  </tbody>\n",
       "</table>\n",
       "</div>"
      ],
      "text/plain": [
       "              Open    High     Low   Close  Adj Close    Volume\n",
       "Date                                                           \n",
       "2017-12-18  174.88  177.20  174.86  176.42     173.07  29421100\n",
       "2017-12-19  175.03  175.39  174.09  174.54     171.22  27436400\n",
       "2017-12-20  174.87  175.42  173.25  174.35     171.04  23475600\n",
       "2017-12-21  174.17  176.02  174.10  175.01     171.69  20949900\n",
       "2017-12-22  174.68  175.42  174.50  175.01     171.69  16114600\n",
       "2017-12-26  170.80  171.47  169.68  170.57     167.33  33185500\n",
       "2017-12-27  170.10  170.78  169.71  170.60     167.36  21498200\n",
       "2017-12-28  171.00  171.85  170.48  171.08     167.83  16480200\n",
       "2017-12-29  170.52  170.59  169.22  169.23     166.01  25884400\n",
       "2018-01-02  170.16  172.30  169.26  172.26     168.99  25555900"
      ]
     },
     "execution_count": 5,
     "metadata": {},
     "output_type": "execute_result"
    }
   ],
   "source": [
    "data"
   ]
  },
  {
   "cell_type": "code",
   "execution_count": null,
   "metadata": {},
   "outputs": [],
   "source": [
    "X_predict = np.array(stock).reshape((1, 10)) / 200\n",
    "print(model.predict(X_predict)*200)"
   ]
  }
 ],
 "metadata": {
  "kernelspec": {
   "display_name": "dbdc_venv",
   "language": "python",
   "name": "dbdc_venv"
  },
  "language_info": {
   "codemirror_mode": {
    "name": "ipython",
    "version": 3
   },
   "file_extension": ".py",
   "mimetype": "text/x-python",
   "name": "python",
   "nbconvert_exporter": "python",
   "pygments_lexer": "ipython3",
   "version": "3.6.2"
  }
 },
 "nbformat": 4,
 "nbformat_minor": 2
}
